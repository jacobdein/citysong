{
 "cells": [
  {
   "cell_type": "markdown",
   "metadata": {},
   "source": [
    "# citysong"
   ]
  },
  {
   "cell_type": "markdown",
   "metadata": {},
   "source": [
    "an agent-based approach to modeling urban birdsong"
   ]
  },
  {
   "cell_type": "markdown",
   "metadata": {},
   "source": [
    "#### import statements"
   ]
  },
  {
   "cell_type": "code",
   "execution_count": 1,
   "metadata": {},
   "outputs": [],
   "source": [
    "import numpy\n",
    "from matplotlib import pyplot\n",
    "from scipy.ndimage import uniform_filter"
   ]
  },
  {
   "cell_type": "code",
   "execution_count": 2,
   "metadata": {},
   "outputs": [],
   "source": [
    "from math import sqrt, ceil"
   ]
  },
  {
   "cell_type": "code",
   "execution_count": 3,
   "metadata": {},
   "outputs": [],
   "source": [
    "from numba import jit, guvectorize, int64, float64"
   ]
  },
  {
   "cell_type": "markdown",
   "metadata": {},
   "source": [
    "#### variable declarations"
   ]
  },
  {
   "cell_type": "code",
   "execution_count": 4,
   "metadata": {},
   "outputs": [],
   "source": [
    "width = 100\n",
    "height = 100"
   ]
  },
  {
   "cell_type": "code",
   "execution_count": 5,
   "metadata": {},
   "outputs": [],
   "source": [
    "seconds = 1000"
   ]
  },
  {
   "cell_type": "code",
   "execution_count": 6,
   "metadata": {},
   "outputs": [],
   "source": [
    "n_trees = 10\n",
    "n_birds = 10"
   ]
  },
  {
   "cell_type": "code",
   "execution_count": 7,
   "metadata": {},
   "outputs": [],
   "source": [
    "cmp = numpy.zeros((width, height), dtype=numpy.int64)\n",
    "trees = numpy.zeros((width, height), dtype=numpy.int64)\n",
    "index = numpy.arange(0, width * height, dtype=numpy.int64)"
   ]
  },
  {
   "cell_type": "markdown",
   "metadata": {},
   "source": [
    "#### create maps"
   ]
  },
  {
   "cell_type": "code",
   "execution_count": 8,
   "metadata": {},
   "outputs": [],
   "source": [
    "index_coords = numpy.zeros((width * height, 2), dtype=numpy.int64)"
   ]
  },
  {
   "cell_type": "code",
   "execution_count": 9,
   "metadata": {},
   "outputs": [],
   "source": [
    "x = 0\n",
    "for r in range(height):\n",
    "    for c in range(width):\n",
    "        index_coords[x] = [r, c]\n",
    "        x = x + 1"
   ]
  },
  {
   "cell_type": "code",
   "execution_count": 10,
   "metadata": {},
   "outputs": [],
   "source": [
    "tree_x_coords = numpy.random.randint(low=0, high=width, size=n_trees)\n",
    "tree_y_coords = numpy.random.randint(low=0, high=height, size=n_trees)\n",
    "tree_coords_index = numpy.arange(n_trees, dtype=int)\n",
    "for tree in range(n_trees):\n",
    "    trees[tree_y_coords[tree], tree_x_coords[tree]] = 1"
   ]
  },
  {
   "cell_type": "code",
   "execution_count": 11,
   "metadata": {},
   "outputs": [],
   "source": [
    "suitability = uniform_filter(trees.astype(numpy.float64), size=5)\n",
    "suitability = suitability + abs(suitability.min())\n",
    "suitability_sort = numpy.copy(suitability.ravel())\n",
    "suitability_sort = suitability_sort/suitability_sort.sum()"
   ]
  },
  {
   "cell_type": "markdown",
   "metadata": {},
   "source": [
    "## bird"
   ]
  },
  {
   "cell_type": "markdown",
   "metadata": {},
   "source": [
    "0 -> column (x position) <br />\n",
    "1 -> row (y position) <br />\n",
    "2 -> moving (0 or 1) <br />\n",
    "3 -> move complete (0-1) <br />\n",
    "4 -> column (x start) <br />\n",
    "5 -> row (y start) <br />\n",
    "6 -> column (x destination) <br />\n",
    "7 -> row (y destination) <br />\n",
    "8 -> move distance"
   ]
  },
  {
   "cell_type": "markdown",
   "metadata": {},
   "source": [
    "#### create birds"
   ]
  },
  {
   "cell_type": "code",
   "execution_count": 12,
   "metadata": {},
   "outputs": [],
   "source": [
    "birds = numpy.zeros((n_birds, 9), dtype=numpy.int64)\n",
    "for idx, b in enumerate(birds):\n",
    "    i = numpy.random.choice(tree_coords_index)\n",
    "    birds[idx][0] = tree_x_coords[i]\n",
    "    birds[idx][1] = tree_y_coords[i]\n",
    "    birds[idx][2] = 0\n",
    "    birds[idx][3] = 0\n",
    "    birds[idx][4] = 0\n",
    "    birds[idx][5] = 0\n",
    "    birds[idx][6] = 0\n",
    "    birds[idx][7] = 0\n",
    "    birds[idx][8] = 0"
   ]
  },
  {
   "cell_type": "markdown",
   "metadata": {},
   "source": [
    "## plot habitat"
   ]
  },
  {
   "cell_type": "code",
   "execution_count": 13,
   "metadata": {},
   "outputs": [
    {
     "data": {
      "text/plain": [
       "<matplotlib.image.AxesImage at 0x7f49c3736c50>"
      ]
     },
     "execution_count": 13,
     "metadata": {},
     "output_type": "execute_result"
    },
    {
     "data": {
      "image/png": "[encoded data removed]",
      "text/plain": [
       "<matplotlib.figure.Figure at 0x7f49cbc78ef0>"
      ]
     },
     "metadata": {},
     "output_type": "display_data"
    }
   ],
   "source": [
    "figure, ax = pyplot.subplots()\n",
    "figure.set_figheight(10)\n",
    "figure.set_figwidth(10)\n",
    "\n",
    "ax.imshow(suitability, cmap=\"Greens\")"
   ]
  },
  {
   "cell_type": "markdown",
   "metadata": {},
   "source": [
    "## run simulation"
   ]
  },
  {
   "cell_type": "code",
   "execution_count": 14,
   "metadata": {},
   "outputs": [],
   "source": [
    "samples = numpy.random.choice(index, size=(seconds, n_birds), p=suitability_sort)"
   ]
  },
  {
   "cell_type": "code",
   "execution_count": 15,
   "metadata": {},
   "outputs": [],
   "source": [
    "def run_guvectorize(grid, seconds, n_birds, birds, index, samples, index_coords, cmp):\n",
    "    for s in range(seconds):\n",
    "        for idx in range(n_birds):\n",
    "            b = birds[idx]\n",
    "            # check if bird is moving\n",
    "            if b[2]:\n",
    "                b[3] = b[3] + 1\n",
    "                p = float(b[3]) / float(b[8])\n",
    "                # calculate coords and update bird's position\n",
    "                b[0] = int(ceil((b[6] - b[4]) * p) + b[4])# + numpy.random.randint(-5, 6)\n",
    "                b[1] = int(ceil((b[7] - b[5]) * p) + b[5])# + numpy.random.randint(-5, 6)\n",
    "                # check if bird reached destination\n",
    "                if b[0] == b[6] and b[1] == b[7]:\n",
    "                    b[2] = 0\n",
    "                    b[3] = 0\n",
    "                    b[4] = 0\n",
    "                    b[5] = 0\n",
    "                    b[6] = 0\n",
    "                    b[7] = 0\n",
    "                    b[8] = 0\n",
    "            # bird is not moving\n",
    "            else:\n",
    "                # possibly set bird in motion\n",
    "                move = numpy.random.randint(0, 100)\n",
    "                if move < 20:\n",
    "                # count number of nearby birds:\n",
    "                    #count = ((birds[:, 0] > (b[0] - 10))*(birds[:, 0] < (b[0] + 10))*(birds[:, 1] > (b[1] - 10))*(birds[:, 1]< (b[1] + 10))).sum()\n",
    "                    #if count < 1 or count > 5:\n",
    "                        # set bird is moving\n",
    "                        b[2] = 1\n",
    "                        # save start destination\n",
    "                        b[4] = b[0]\n",
    "                        b[5] = b[1]\n",
    "                        # set new destination\n",
    "                        b[6] = index_coords[samples[s, idx]][0]\n",
    "                        b[7] = index_coords[samples[s, idx]][1]\n",
    "                        # set distance of move\n",
    "                        b[8] = ceil(sqrt((b[6]-b[4])**2 + (b[7]-b[5])**2))\n",
    "            # check for possible bird call\n",
    "            call = numpy.random.randint(0, 100)\n",
    "            if call < 5:\n",
    "                # check if bird is near other birds\n",
    "                # count number of nearby birds:\n",
    "                #count = ((birds[:, 0] > (b[0] - 10))*(birds[:, 0] < (b[0] + 10))*(birds[:, 1] > (b[1] - 10))*(birds[:, 1]< (b[1] + 10))).sum()\n",
    "                #if count < 2:\n",
    "                cmp[b[0], b[1]] = cmp[b[0], b[1]] + 1"
   ]
  },
  {
   "cell_type": "code",
   "execution_count": 16,
   "metadata": {},
   "outputs": [],
   "source": [
    "run_numba = guvectorize('int64[:,:], int64, int64, int64[:,:], int64[:], int64[:,:], int64[:,:], int64[:,:]', '(w,h),(),(),(b,a),(n),(s,b),(n,c)->(w,h)', target='parallel', nopython=True)(run_guvectorize)"
   ]
  },
  {
   "cell_type": "code",
   "execution_count": 17,
   "metadata": {},
   "outputs": [],
   "source": [
    "cmp = run_numba(cmp, seconds, n_birds, birds, index, samples, index_coords, cmp)"
   ]
  },
  {
   "cell_type": "markdown",
   "metadata": {},
   "source": [
    "## plot bird calls"
   ]
  },
  {
   "cell_type": "code",
   "execution_count": 18,
   "metadata": {},
   "outputs": [
    {
     "data": {
      "text/plain": [
       "<matplotlib.image.AxesImage at 0x7f49c2efa550>"
      ]
     },
     "execution_count": 18,
     "metadata": {},
     "output_type": "execute_result"
    },
    {
     "data": {
      "image/png": "[encoded data removed]",
      "text/plain": [
       "<matplotlib.figure.Figure at 0x7f49c2eb4668>"
      ]
     },
     "metadata": {},
     "output_type": "display_data"
    }
   ],
   "source": [
    "figure, ax = pyplot.subplots()\n",
    "figure.set_figheight(10)\n",
    "figure.set_figwidth(10)\n",
    "\n",
    "ax.imshow(cmp, cmap=\"viridis\")"
   ]
  },
  {
   "cell_type": "markdown",
   "metadata": {},
   "source": [
    "#### create sound attenuation mask"
   ]
  },
  {
   "cell_type": "code",
   "execution_count": 25,
   "metadata": {},
   "outputs": [],
   "source": [
    "call_mask = numpy.zeros(shape=(101, 101))"
   ]
  },
  {
   "cell_type": "code",
   "execution_count": 26,
   "metadata": {},
   "outputs": [],
   "source": [
    "for c in range(101):\n",
    "    for r in range(101):\n",
    "        dist = sqrt((50-c)**2 + (50-r)**2)\n",
    "        if dist <= 50:\n",
    "            try:\n",
    "                call_mask[r, c] = 1\n",
    "            except ZeroDivisionError:\n",
    "                call_mask[r, c] = 1"
   ]
  },
  {
   "cell_type": "code",
   "execution_count": 27,
   "metadata": {},
   "outputs": [],
   "source": [
    "cmp_2 = numpy.zeros(shape=(height+100, width+100))"
   ]
  },
  {
   "cell_type": "code",
   "execution_count": 28,
   "metadata": {},
   "outputs": [],
   "source": [
    "def call():\n",
    "    for c in range(50, width+50):\n",
    "        for r in range(50, height+50):\n",
    "            value = cmp[r-50, c-50]\n",
    "            if value > 0:\n",
    "                cmp_2[r-50:r+51, c-50:c+51] = cmp_2[r-50:r+51, c-50:c+51] + call_mask * value"
   ]
  },
  {
   "cell_type": "code",
   "execution_count": 29,
   "metadata": {},
   "outputs": [],
   "source": [
    "call()"
   ]
  },
  {
   "cell_type": "code",
   "execution_count": 30,
   "metadata": {},
   "outputs": [
    {
     "data": {
      "text/plain": [
       "<matplotlib.image.AxesImage at 0x7f49c1fe5240>"
      ]
     },
     "execution_count": 30,
     "metadata": {},
     "output_type": "execute_result"
    },
    {
     "data": {
      "image/png": "[encoded data removed]",
      "text/plain": [
       "<matplotlib.figure.Figure at 0x7f49c1faad30>"
      ]
     },
     "metadata": {},
     "output_type": "display_data"
    }
   ],
   "source": [
    "figure, ax = pyplot.subplots()\n",
    "figure.set_figheight(10)\n",
    "figure.set_figwidth(10)\n",
    "\n",
    "ax.imshow(cmp_2, cmap=\"viridis\")"
   ]
  }
 ],
 "metadata": {
  "kernelspec": {
   "display_name": "Python 3",
   "language": "python",
   "name": "python3"
  },
  "language_info": {
   "codemirror_mode": {
    "name": "ipython",
    "version": 3
   },
   "file_extension": ".py",
   "mimetype": "text/x-python",
   "name": "python",
   "nbconvert_exporter": "python",
   "pygments_lexer": "ipython3",
   "version": "3.6.4"
  }
 },
 "nbformat": 4,
 "nbformat_minor": 2
}
